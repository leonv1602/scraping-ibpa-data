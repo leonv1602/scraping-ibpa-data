{
 "cells": [
  {
   "cell_type": "markdown",
   "metadata": {},
   "source": [
    "# Import Packages"
   ]
  },
  {
   "cell_type": "code",
   "execution_count": 1,
   "metadata": {},
   "outputs": [],
   "source": [
    "import requests\n",
    "from bs4 import BeautifulSoup\n",
    "import pandas as pd\n",
    "import numpy as np\n",
    "import os\n",
    "import openpyxl\n",
    "import matplotlib.pyplot as plt\n",
    "import re\n",
    "import urllib.request\n",
    "import pdfkit"
   ]
  },
  {
   "cell_type": "code",
   "execution_count": 2,
   "metadata": {},
   "outputs": [
    {
     "name": "stdout",
     "output_type": "stream",
     "text": [
      "Note: you may need to restart the kernel to use updated packages.\n"
     ]
    }
   ],
   "source": [
    "pip freeze > requirements.txt  # Python3"
   ]
  },
  {
   "cell_type": "markdown",
   "metadata": {},
   "source": [
    "# Initialization"
   ]
  },
  {
   "cell_type": "code",
   "execution_count": 3,
   "metadata": {},
   "outputs": [],
   "source": [
    "# Define the URL of the website\n",
    "url = \"https://www.phei.co.id/Data/HPW-dan-Imbal-Hasil\"\n",
    "\n",
    "response = requests.get(url)\n",
    "html_response = response.content\n",
    "text_find = response.text\n",
    "df_list = pd.read_html(html_response)"
   ]
  },
  {
   "cell_type": "code",
   "execution_count": 4,
   "metadata": {},
   "outputs": [
    {
     "data": {
      "text/plain": [
       "'27-Maret-2025'"
      ]
     },
     "execution_count": 4,
     "metadata": {},
     "output_type": "execute_result"
    }
   ],
   "source": [
    "start_ = re.search('<div id=\"dnn_ctr1477_GovernmentBondBenchmark_idIGSYC_tdTgl\">', text_find).start()\n",
    "date_yc = text_find[start_ :100+start_]\n",
    "date_yc = date_yc.split(' ')[-2]\n",
    "split = date_yc.find('<')\n",
    "clean_date = date_yc[:split]\n",
    "clean_date"
   ]
  },
  {
   "cell_type": "code",
   "execution_count": 5,
   "metadata": {},
   "outputs": [
    {
     "data": {
      "text/plain": [
       "'27-Maret-2025'"
      ]
     },
     "execution_count": 5,
     "metadata": {},
     "output_type": "execute_result"
    }
   ],
   "source": [
    "if int(clean_date.split('-')[0]) < 10:\n",
    "    cleaner_date = clean_date.split('-')\n",
    "    cleaner_date[0] = '0' + cleaner_date[0]\n",
    "    clean_date = '-'.join(cleaner_date)\n",
    "clean_date"
   ]
  },
  {
   "cell_type": "code",
   "execution_count": 6,
   "metadata": {},
   "outputs": [],
   "source": [
    "dict_month_number = {\"Januari\": \"01\", \n",
    "                     \"Februari\": \"02\", \n",
    "                     \"Maret\": \"03\", \n",
    "                     \"April\": \"04\", \n",
    "                     \"Mei\": \"05\", \n",
    "                     \"Juni\": \"06\", \n",
    "                     \"Juli\": \"07\", \n",
    "                     \"Agustus\": \"08\", \n",
    "                     \"September\": \"09\", \n",
    "                     \"Oktober\": \"10\", \n",
    "                     \"November\": \"11\", \n",
    "                     \"Desember\": \"12\",}"
   ]
  },
  {
   "cell_type": "code",
   "execution_count": 7,
   "metadata": {},
   "outputs": [
    {
     "name": "stdout",
     "output_type": "stream",
     "text": [
      "Folder 2025-03-Maret already exists\n",
      "Folder 2025-03-Maret/image already exists\n",
      "Folder 2025-03-Maret/py-image already exists\n",
      "Folder 2025-03-Maret/pdf already exists\n"
     ]
    }
   ],
   "source": [
    "sub_path = f'{clean_date.split(\"-\")[2]}-{dict_month_number.get(clean_date.split(\"-\")[1])}-{clean_date.split(\"-\")[1]}'\n",
    "try:\n",
    "    os.makedirs(sub_path)\n",
    "    print(f\"Folder {sub_path} created!\")\n",
    "except FileExistsError:\n",
    "    print(f\"Folder {sub_path} already exists\")\n",
    "\n",
    "sub_path_image = sub_path+'/image'\n",
    "try:\n",
    "    os.makedirs(sub_path_image)\n",
    "    print(f\"Folder {sub_path_image} created!\")\n",
    "except FileExistsError:\n",
    "    print(f\"Folder {sub_path_image} already exists\")\n",
    "\n",
    "sub_path_py_image = sub_path+'/py-image'\n",
    "try:\n",
    "    os.makedirs(sub_path_py_image)\n",
    "    print(f\"Folder {sub_path_py_image} created!\")\n",
    "except FileExistsError:\n",
    "    print(f\"Folder {sub_path_py_image} already exists\")\n",
    "    \n",
    "sub_path_pdf_image = sub_path+'/pdf'\n",
    "try:\n",
    "    os.makedirs(sub_path_pdf_image)\n",
    "    print(f\"Folder {sub_path_pdf_image} created!\")\n",
    "except FileExistsError:\n",
    "    print(f\"Folder {sub_path_pdf_image} already exists\")"
   ]
  },
  {
   "cell_type": "markdown",
   "metadata": {},
   "source": [
    "# Saving URL as PDF"
   ]
  },
  {
   "cell_type": "code",
   "execution_count": 8,
   "metadata": {},
   "outputs": [
    {
     "data": {
      "text/plain": [
       "('2025-03-Maret/pdf/27-Maret-2025.pdf',\n",
       " <http.client.HTTPMessage at 0x28e9087af80>)"
      ]
     },
     "execution_count": 8,
     "metadata": {},
     "output_type": "execute_result"
    }
   ],
   "source": [
    "pdf_path = f'{sub_path_pdf_image}/{clean_date}.pdf'\n",
    "urllib.request.urlretrieve(url, pdf_path)"
   ]
  },
  {
   "cell_type": "markdown",
   "metadata": {},
   "source": [
    "# Saving Image as PDF"
   ]
  },
  {
   "cell_type": "code",
   "execution_count": 9,
   "metadata": {},
   "outputs": [
    {
     "data": {
      "text/plain": [
       "('2025-03-Maret/image/27-Maret-2025.jpeg',\n",
       " <http.client.HTTPMessage at 0x28e9087b070>)"
      ]
     },
     "execution_count": 9,
     "metadata": {},
     "output_type": "execute_result"
    }
   ],
   "source": [
    "# Save image from Website\n",
    "img_location_url = text_find[re.search('ChartPic', text_find).start():re.search('ChartPic', text_find).start()+200].split(' ')[0][:-1]\n",
    "imgURL = \"https://www.phei.co.id/\"+img_location_url\n",
    "urllib.request.urlretrieve(imgURL,f'{clean_date.split(\"-\")[2]}-{dict_month_number.get(clean_date.split(\"-\")[1])}-{clean_date.split(\"-\")[1]}/image/{clean_date}.jpeg')\n"
   ]
  },
  {
   "cell_type": "code",
   "execution_count": 10,
   "metadata": {},
   "outputs": [],
   "source": [
    "def prepare_data(df, type_df):\n",
    "    copy_df = df.copy()\n",
    "    copy_df.drop(columns = copy_df.columns[[0, -1]], inplace = True)\n",
    "    copy_df['type'] = type_df\n",
    "    return copy_df"
   ]
  },
  {
   "cell_type": "markdown",
   "metadata": {},
   "source": [
    "# Saving Underlying Bond Data"
   ]
  },
  {
   "cell_type": "code",
   "execution_count": 11,
   "metadata": {},
   "outputs": [],
   "source": [
    "sbn_data = prepare_data(df_list[2], 'sbn')\n",
    "sbsn_data = prepare_data(df_list[3], 'sbsn')\n",
    "retail_data= prepare_data(df_list[4], 'retail')\n",
    "\n",
    "bond_data = pd.concat((sbn_data, \n",
    "                             sbsn_data,\n",
    "                             retail_data), axis = 0).reset_index(drop = True)"
   ]
  },
  {
   "cell_type": "code",
   "execution_count": 12,
   "metadata": {},
   "outputs": [
    {
     "data": {
      "text/html": [
       "<div>\n",
       "<style scoped>\n",
       "    .dataframe tbody tr th:only-of-type {\n",
       "        vertical-align: middle;\n",
       "    }\n",
       "\n",
       "    .dataframe tbody tr th {\n",
       "        vertical-align: top;\n",
       "    }\n",
       "\n",
       "    .dataframe thead th {\n",
       "        text-align: right;\n",
       "    }\n",
       "</style>\n",
       "<table border=\"1\" class=\"dataframe\">\n",
       "  <thead>\n",
       "    <tr style=\"text-align: right;\">\n",
       "      <th></th>\n",
       "      <th>Series</th>\n",
       "      <th>TTM (Y)</th>\n",
       "      <th>Today Yield (%)</th>\n",
       "      <th>Today Price (%)</th>\n",
       "      <th>Yesterday Yield (%)</th>\n",
       "      <th>Yesterday Price (%)</th>\n",
       "      <th>Coupon(%)</th>\n",
       "      <th>type</th>\n",
       "    </tr>\n",
       "  </thead>\n",
       "  <tbody>\n",
       "    <tr>\n",
       "      <th>0</th>\n",
       "      <td>FR0104</td>\n",
       "      <td>5.30</td>\n",
       "      <td>6.7453</td>\n",
       "      <td>98.9087</td>\n",
       "      <td>6.8401</td>\n",
       "      <td>98.4946</td>\n",
       "      <td>6.500</td>\n",
       "      <td>sbn</td>\n",
       "    </tr>\n",
       "    <tr>\n",
       "      <th>1</th>\n",
       "      <td>FR0103</td>\n",
       "      <td>10.31</td>\n",
       "      <td>7.0037</td>\n",
       "      <td>98.1456</td>\n",
       "      <td>7.1392</td>\n",
       "      <td>97.1800</td>\n",
       "      <td>6.750</td>\n",
       "      <td>sbn</td>\n",
       "    </tr>\n",
       "    <tr>\n",
       "      <th>2</th>\n",
       "      <td>FR0106</td>\n",
       "      <td>15.40</td>\n",
       "      <td>7.0141</td>\n",
       "      <td>101.0238</td>\n",
       "      <td>7.1772</td>\n",
       "      <td>99.5080</td>\n",
       "      <td>7.125</td>\n",
       "      <td>sbn</td>\n",
       "    </tr>\n",
       "    <tr>\n",
       "      <th>3</th>\n",
       "      <td>FR0107</td>\n",
       "      <td>20.40</td>\n",
       "      <td>7.0985</td>\n",
       "      <td>100.2722</td>\n",
       "      <td>7.1900</td>\n",
       "      <td>99.2990</td>\n",
       "      <td>7.125</td>\n",
       "      <td>sbn</td>\n",
       "    </tr>\n",
       "    <tr>\n",
       "      <th>4</th>\n",
       "      <td>PBS003</td>\n",
       "      <td>1.81</td>\n",
       "      <td>6.7309</td>\n",
       "      <td>98.7659</td>\n",
       "      <td>6.7779</td>\n",
       "      <td>98.6860</td>\n",
       "      <td>6.000</td>\n",
       "      <td>sbsn</td>\n",
       "    </tr>\n",
       "    <tr>\n",
       "      <th>5</th>\n",
       "      <td>PBS030</td>\n",
       "      <td>3.30</td>\n",
       "      <td>6.6608</td>\n",
       "      <td>97.6921</td>\n",
       "      <td>6.7178</td>\n",
       "      <td>97.5264</td>\n",
       "      <td>5.875</td>\n",
       "      <td>sbsn</td>\n",
       "    </tr>\n",
       "    <tr>\n",
       "      <th>6</th>\n",
       "      <td>PBS034</td>\n",
       "      <td>14.23</td>\n",
       "      <td>6.8394</td>\n",
       "      <td>96.9314</td>\n",
       "      <td>6.8853</td>\n",
       "      <td>96.5271</td>\n",
       "      <td>6.500</td>\n",
       "      <td>sbsn</td>\n",
       "    </tr>\n",
       "    <tr>\n",
       "      <th>7</th>\n",
       "      <td>PBS038</td>\n",
       "      <td>24.74</td>\n",
       "      <td>7.1337</td>\n",
       "      <td>96.9996</td>\n",
       "      <td>7.1848</td>\n",
       "      <td>96.4266</td>\n",
       "      <td>6.875</td>\n",
       "      <td>sbsn</td>\n",
       "    </tr>\n",
       "    <tr>\n",
       "      <th>8</th>\n",
       "      <td>ORI022</td>\n",
       "      <td>0.55</td>\n",
       "      <td>6.4738</td>\n",
       "      <td>99.7169</td>\n",
       "      <td>6.5035</td>\n",
       "      <td>99.6994</td>\n",
       "      <td>5.950</td>\n",
       "      <td>retail</td>\n",
       "    </tr>\n",
       "    <tr>\n",
       "      <th>9</th>\n",
       "      <td>ORI023T3</td>\n",
       "      <td>1.30</td>\n",
       "      <td>6.6130</td>\n",
       "      <td>99.1131</td>\n",
       "      <td>6.6524</td>\n",
       "      <td>99.0625</td>\n",
       "      <td>5.900</td>\n",
       "      <td>retail</td>\n",
       "    </tr>\n",
       "    <tr>\n",
       "      <th>10</th>\n",
       "      <td>ORI023T6</td>\n",
       "      <td>4.30</td>\n",
       "      <td>6.5887</td>\n",
       "      <td>98.1736</td>\n",
       "      <td>6.6497</td>\n",
       "      <td>97.9472</td>\n",
       "      <td>6.100</td>\n",
       "      <td>retail</td>\n",
       "    </tr>\n",
       "    <tr>\n",
       "      <th>11</th>\n",
       "      <td>ORI024T3</td>\n",
       "      <td>1.55</td>\n",
       "      <td>6.4857</td>\n",
       "      <td>99.4320</td>\n",
       "      <td>6.5332</td>\n",
       "      <td>99.3613</td>\n",
       "      <td>6.100</td>\n",
       "      <td>retail</td>\n",
       "    </tr>\n",
       "    <tr>\n",
       "      <th>12</th>\n",
       "      <td>ORI024T6</td>\n",
       "      <td>4.56</td>\n",
       "      <td>6.8103</td>\n",
       "      <td>98.2028</td>\n",
       "      <td>6.8725</td>\n",
       "      <td>97.9614</td>\n",
       "      <td>6.350</td>\n",
       "      <td>retail</td>\n",
       "    </tr>\n",
       "    <tr>\n",
       "      <th>13</th>\n",
       "      <td>ORI025T3</td>\n",
       "      <td>1.89</td>\n",
       "      <td>6.6979</td>\n",
       "      <td>99.2087</td>\n",
       "      <td>6.7349</td>\n",
       "      <td>99.1425</td>\n",
       "      <td>6.250</td>\n",
       "      <td>retail</td>\n",
       "    </tr>\n",
       "    <tr>\n",
       "      <th>14</th>\n",
       "      <td>ORI025T6</td>\n",
       "      <td>4.89</td>\n",
       "      <td>6.9409</td>\n",
       "      <td>97.7642</td>\n",
       "      <td>7.0142</td>\n",
       "      <td>97.4646</td>\n",
       "      <td>6.400</td>\n",
       "      <td>retail</td>\n",
       "    </tr>\n",
       "    <tr>\n",
       "      <th>15</th>\n",
       "      <td>ORI026T3</td>\n",
       "      <td>2.55</td>\n",
       "      <td>6.5793</td>\n",
       "      <td>99.3453</td>\n",
       "      <td>6.6222</td>\n",
       "      <td>99.2446</td>\n",
       "      <td>6.300</td>\n",
       "      <td>retail</td>\n",
       "    </tr>\n",
       "    <tr>\n",
       "      <th>16</th>\n",
       "      <td>ORI026T6</td>\n",
       "      <td>5.56</td>\n",
       "      <td>6.8885</td>\n",
       "      <td>97.7515</td>\n",
       "      <td>6.9652</td>\n",
       "      <td>97.4029</td>\n",
       "      <td>6.400</td>\n",
       "      <td>retail</td>\n",
       "    </tr>\n",
       "    <tr>\n",
       "      <th>17</th>\n",
       "      <td>ORI027T3</td>\n",
       "      <td>2.89</td>\n",
       "      <td>6.7298</td>\n",
       "      <td>99.7910</td>\n",
       "      <td>6.7827</td>\n",
       "      <td>99.6526</td>\n",
       "      <td>6.650</td>\n",
       "      <td>retail</td>\n",
       "    </tr>\n",
       "    <tr>\n",
       "      <th>18</th>\n",
       "      <td>ORI027T6</td>\n",
       "      <td>5.89</td>\n",
       "      <td>6.9535</td>\n",
       "      <td>99.0192</td>\n",
       "      <td>7.0280</td>\n",
       "      <td>98.6627</td>\n",
       "      <td>6.750</td>\n",
       "      <td>retail</td>\n",
       "    </tr>\n",
       "    <tr>\n",
       "      <th>19</th>\n",
       "      <td>SR017</td>\n",
       "      <td>0.46</td>\n",
       "      <td>7.0872</td>\n",
       "      <td>99.4704</td>\n",
       "      <td>7.1309</td>\n",
       "      <td>99.4478</td>\n",
       "      <td>5.900</td>\n",
       "      <td>retail</td>\n",
       "    </tr>\n",
       "    <tr>\n",
       "      <th>20</th>\n",
       "      <td>SR018T3</td>\n",
       "      <td>0.95</td>\n",
       "      <td>6.8948</td>\n",
       "      <td>99.4058</td>\n",
       "      <td>6.9156</td>\n",
       "      <td>99.3850</td>\n",
       "      <td>6.250</td>\n",
       "      <td>retail</td>\n",
       "    </tr>\n",
       "    <tr>\n",
       "      <th>21</th>\n",
       "      <td>SR018T5</td>\n",
       "      <td>2.96</td>\n",
       "      <td>6.7932</td>\n",
       "      <td>98.9499</td>\n",
       "      <td>6.8445</td>\n",
       "      <td>98.8126</td>\n",
       "      <td>6.400</td>\n",
       "      <td>retail</td>\n",
       "    </tr>\n",
       "    <tr>\n",
       "      <th>22</th>\n",
       "      <td>SR019T3</td>\n",
       "      <td>1.46</td>\n",
       "      <td>6.5751</td>\n",
       "      <td>99.1350</td>\n",
       "      <td>6.6129</td>\n",
       "      <td>99.0813</td>\n",
       "      <td>5.950</td>\n",
       "      <td>retail</td>\n",
       "    </tr>\n",
       "    <tr>\n",
       "      <th>23</th>\n",
       "      <td>SR019T5</td>\n",
       "      <td>3.46</td>\n",
       "      <td>6.7219</td>\n",
       "      <td>98.0873</td>\n",
       "      <td>6.7829</td>\n",
       "      <td>97.9006</td>\n",
       "      <td>6.100</td>\n",
       "      <td>retail</td>\n",
       "    </tr>\n",
       "    <tr>\n",
       "      <th>24</th>\n",
       "      <td>SR020T3</td>\n",
       "      <td>1.95</td>\n",
       "      <td>6.5854</td>\n",
       "      <td>99.4777</td>\n",
       "      <td>6.6307</td>\n",
       "      <td>99.3943</td>\n",
       "      <td>6.300</td>\n",
       "      <td>retail</td>\n",
       "    </tr>\n",
       "    <tr>\n",
       "      <th>25</th>\n",
       "      <td>SR020T5</td>\n",
       "      <td>3.96</td>\n",
       "      <td>6.6253</td>\n",
       "      <td>99.2177</td>\n",
       "      <td>6.6972</td>\n",
       "      <td>98.9692</td>\n",
       "      <td>6.400</td>\n",
       "      <td>retail</td>\n",
       "    </tr>\n",
       "    <tr>\n",
       "      <th>26</th>\n",
       "      <td>SR021T3</td>\n",
       "      <td>2.46</td>\n",
       "      <td>6.5769</td>\n",
       "      <td>99.4866</td>\n",
       "      <td>6.6205</td>\n",
       "      <td>99.3878</td>\n",
       "      <td>6.350</td>\n",
       "      <td>retail</td>\n",
       "    </tr>\n",
       "    <tr>\n",
       "      <th>27</th>\n",
       "      <td>SR021T5</td>\n",
       "      <td>4.46</td>\n",
       "      <td>6.6627</td>\n",
       "      <td>99.1816</td>\n",
       "      <td>6.7308</td>\n",
       "      <td>98.9208</td>\n",
       "      <td>6.450</td>\n",
       "      <td>retail</td>\n",
       "    </tr>\n",
       "  </tbody>\n",
       "</table>\n",
       "</div>"
      ],
      "text/plain": [
       "      Series  TTM (Y)  Today Yield (%)  Today Price (%)  Yesterday Yield (%)  \\\n",
       "0     FR0104     5.30           6.7453          98.9087               6.8401   \n",
       "1     FR0103    10.31           7.0037          98.1456               7.1392   \n",
       "2     FR0106    15.40           7.0141         101.0238               7.1772   \n",
       "3     FR0107    20.40           7.0985         100.2722               7.1900   \n",
       "4     PBS003     1.81           6.7309          98.7659               6.7779   \n",
       "5     PBS030     3.30           6.6608          97.6921               6.7178   \n",
       "6     PBS034    14.23           6.8394          96.9314               6.8853   \n",
       "7     PBS038    24.74           7.1337          96.9996               7.1848   \n",
       "8     ORI022     0.55           6.4738          99.7169               6.5035   \n",
       "9   ORI023T3     1.30           6.6130          99.1131               6.6524   \n",
       "10  ORI023T6     4.30           6.5887          98.1736               6.6497   \n",
       "11  ORI024T3     1.55           6.4857          99.4320               6.5332   \n",
       "12  ORI024T6     4.56           6.8103          98.2028               6.8725   \n",
       "13  ORI025T3     1.89           6.6979          99.2087               6.7349   \n",
       "14  ORI025T6     4.89           6.9409          97.7642               7.0142   \n",
       "15  ORI026T3     2.55           6.5793          99.3453               6.6222   \n",
       "16  ORI026T6     5.56           6.8885          97.7515               6.9652   \n",
       "17  ORI027T3     2.89           6.7298          99.7910               6.7827   \n",
       "18  ORI027T6     5.89           6.9535          99.0192               7.0280   \n",
       "19     SR017     0.46           7.0872          99.4704               7.1309   \n",
       "20   SR018T3     0.95           6.8948          99.4058               6.9156   \n",
       "21   SR018T5     2.96           6.7932          98.9499               6.8445   \n",
       "22   SR019T3     1.46           6.5751          99.1350               6.6129   \n",
       "23   SR019T5     3.46           6.7219          98.0873               6.7829   \n",
       "24   SR020T3     1.95           6.5854          99.4777               6.6307   \n",
       "25   SR020T5     3.96           6.6253          99.2177               6.6972   \n",
       "26   SR021T3     2.46           6.5769          99.4866               6.6205   \n",
       "27   SR021T5     4.46           6.6627          99.1816               6.7308   \n",
       "\n",
       "    Yesterday Price (%)  Coupon(%)    type  \n",
       "0               98.4946      6.500     sbn  \n",
       "1               97.1800      6.750     sbn  \n",
       "2               99.5080      7.125     sbn  \n",
       "3               99.2990      7.125     sbn  \n",
       "4               98.6860      6.000    sbsn  \n",
       "5               97.5264      5.875    sbsn  \n",
       "6               96.5271      6.500    sbsn  \n",
       "7               96.4266      6.875    sbsn  \n",
       "8               99.6994      5.950  retail  \n",
       "9               99.0625      5.900  retail  \n",
       "10              97.9472      6.100  retail  \n",
       "11              99.3613      6.100  retail  \n",
       "12              97.9614      6.350  retail  \n",
       "13              99.1425      6.250  retail  \n",
       "14              97.4646      6.400  retail  \n",
       "15              99.2446      6.300  retail  \n",
       "16              97.4029      6.400  retail  \n",
       "17              99.6526      6.650  retail  \n",
       "18              98.6627      6.750  retail  \n",
       "19              99.4478      5.900  retail  \n",
       "20              99.3850      6.250  retail  \n",
       "21              98.8126      6.400  retail  \n",
       "22              99.0813      5.950  retail  \n",
       "23              97.9006      6.100  retail  \n",
       "24              99.3943      6.300  retail  \n",
       "25              98.9692      6.400  retail  \n",
       "26              99.3878      6.350  retail  \n",
       "27              98.9208      6.450  retail  "
      ]
     },
     "execution_count": 12,
     "metadata": {},
     "output_type": "execute_result"
    }
   ],
   "source": [
    "bond_data.iloc[:,1] /= 100\n",
    "bond_data.iloc[:,2:-1] /= 10000\n",
    "bond_data"
   ]
  },
  {
   "cell_type": "code",
   "execution_count": 13,
   "metadata": {},
   "outputs": [],
   "source": [
    "bond_data.to_excel(f'{clean_date.split(\"-\")[2]}-{dict_month_number.get(clean_date.split(\"-\")[1])}-{clean_date.split(\"-\")[1]}/Bond-Data-{clean_date}.xlsx', \n",
    "            sheet_name=clean_date)"
   ]
  },
  {
   "cell_type": "markdown",
   "metadata": {},
   "source": [
    "# Calculating Spot Rate and Saving Spot Rate Data"
   ]
  },
  {
   "cell_type": "code",
   "execution_count": 14,
   "metadata": {},
   "outputs": [],
   "source": [
    "df = pd.concat((df_list[0],df_list[1]), axis = 0)[['Tenor Year', 'Today']]\n",
    "df['Tenor Year'] /= 10\n",
    "df['Today'] /= 1e6\n",
    "df.rename(columns = {'Today': 'IBPA Yield'}, inplace = True)\n",
    "df.set_index('Tenor Year', inplace=True)"
   ]
  },
  {
   "cell_type": "code",
   "execution_count": 15,
   "metadata": {},
   "outputs": [],
   "source": [
    "def spot_rate(df):\n",
    "    spot_data = df.values.copy()\n",
    "    for j in range(2,df.shape[0]):\n",
    "        minus = 0\n",
    "        for k in range(1,j):\n",
    "            minus -= spot_data[j]/(1+spot_data[k])**k\n",
    "        spot_data[j] = ((1+df.iloc[j])/(1+minus))**(1/j)-1\n",
    "    return spot_data"
   ]
  },
  {
   "cell_type": "code",
   "execution_count": 16,
   "metadata": {},
   "outputs": [],
   "source": [
    "df['Spot-Rate'] = spot_rate(df)"
   ]
  },
  {
   "cell_type": "code",
   "execution_count": 17,
   "metadata": {},
   "outputs": [
    {
     "data": {
      "image/png": "[encoded data removed]",
      "text/plain": [
       "<Figure size 640x480 with 1 Axes>"
      ]
     },
     "metadata": {},
     "output_type": "display_data"
    }
   ],
   "source": [
    "plt.plot(df.index, df['IBPA Yield'], label = 'Yield Curve')\n",
    "plt.plot(df.index, df['Spot-Rate'], label = 'Spot Rate')\n",
    "plt.xlabel('Tenor Year')\n",
    "plt.ylabel('Rate')\n",
    "plt.legend()\n",
    "plt.title(f'YCB and ZCB IDR {clean_date}')\n",
    "plt.grid()\n",
    "plt.savefig(f'{clean_date.split(\"-\")[2]}-{dict_month_number.get(clean_date.split(\"-\")[1])}-{clean_date.split(\"-\")[1]}/py-image/{clean_date}.jpeg')\n",
    "plt.show()"
   ]
  },
  {
   "cell_type": "code",
   "execution_count": 18,
   "metadata": {},
   "outputs": [],
   "source": [
    "df.to_excel(f'{clean_date.split(\"-\")[2]}-{dict_month_number.get(clean_date.split(\"-\")[1])}-{clean_date.split(\"-\")[1]}/Yield-Curve-{clean_date}.xlsx', \n",
    "            sheet_name=clean_date)"
   ]
  },
  {
   "cell_type": "markdown",
   "metadata": {},
   "source": [
    "# Saving Corporate Bond Data"
   ]
  },
  {
   "cell_type": "code",
   "execution_count": 19,
   "metadata": {},
   "outputs": [
    {
     "data": {
      "text/html": [
       "<div>\n",
       "<style scoped>\n",
       "    .dataframe tbody tr th:only-of-type {\n",
       "        vertical-align: middle;\n",
       "    }\n",
       "\n",
       "    .dataframe tbody tr th {\n",
       "        vertical-align: top;\n",
       "    }\n",
       "\n",
       "    .dataframe thead th {\n",
       "        text-align: right;\n",
       "    }\n",
       "</style>\n",
       "<table border=\"1\" class=\"dataframe\">\n",
       "  <thead>\n",
       "    <tr style=\"text-align: right;\">\n",
       "      <th></th>\n",
       "      <th>Tenor(Year)</th>\n",
       "      <th>IGS</th>\n",
       "      <th>AAA</th>\n",
       "      <th>AA</th>\n",
       "      <th>A</th>\n",
       "      <th>BBB</th>\n",
       "    </tr>\n",
       "  </thead>\n",
       "  <tbody>\n",
       "    <tr>\n",
       "      <th>0</th>\n",
       "      <td>0.1</td>\n",
       "      <td>0.062647</td>\n",
       "      <td>0.065382</td>\n",
       "      <td>0.067510</td>\n",
       "      <td>0.074466</td>\n",
       "      <td>0.085495</td>\n",
       "    </tr>\n",
       "    <tr>\n",
       "      <th>1</th>\n",
       "      <td>1.0</td>\n",
       "      <td>0.065302</td>\n",
       "      <td>0.068162</td>\n",
       "      <td>0.071400</td>\n",
       "      <td>0.086327</td>\n",
       "      <td>0.097969</td>\n",
       "    </tr>\n",
       "    <tr>\n",
       "      <th>2</th>\n",
       "      <td>2.0</td>\n",
       "      <td>0.066136</td>\n",
       "      <td>0.069032</td>\n",
       "      <td>0.073235</td>\n",
       "      <td>0.090167</td>\n",
       "      <td>0.103644</td>\n",
       "    </tr>\n",
       "    <tr>\n",
       "      <th>3</th>\n",
       "      <td>3.0</td>\n",
       "      <td>0.066757</td>\n",
       "      <td>0.069777</td>\n",
       "      <td>0.074628</td>\n",
       "      <td>0.092574</td>\n",
       "      <td>0.107331</td>\n",
       "    </tr>\n",
       "    <tr>\n",
       "      <th>4</th>\n",
       "      <td>4.0</td>\n",
       "      <td>0.067532</td>\n",
       "      <td>0.070806</td>\n",
       "      <td>0.076081</td>\n",
       "      <td>0.094853</td>\n",
       "      <td>0.110564</td>\n",
       "    </tr>\n",
       "    <tr>\n",
       "      <th>5</th>\n",
       "      <td>5.0</td>\n",
       "      <td>0.068380</td>\n",
       "      <td>0.071984</td>\n",
       "      <td>0.077548</td>\n",
       "      <td>0.096838</td>\n",
       "      <td>0.113415</td>\n",
       "    </tr>\n",
       "    <tr>\n",
       "      <th>6</th>\n",
       "      <td>6.0</td>\n",
       "      <td>0.069175</td>\n",
       "      <td>0.073126</td>\n",
       "      <td>0.078901</td>\n",
       "      <td>0.098363</td>\n",
       "      <td>0.115758</td>\n",
       "    </tr>\n",
       "    <tr>\n",
       "      <th>7</th>\n",
       "      <td>7.0</td>\n",
       "      <td>0.069846</td>\n",
       "      <td>0.074116</td>\n",
       "      <td>0.080053</td>\n",
       "      <td>0.099428</td>\n",
       "      <td>0.117554</td>\n",
       "    </tr>\n",
       "    <tr>\n",
       "      <th>8</th>\n",
       "      <td>8.0</td>\n",
       "      <td>0.070371</td>\n",
       "      <td>0.074911</td>\n",
       "      <td>0.080978</td>\n",
       "      <td>0.100121</td>\n",
       "      <td>0.118858</td>\n",
       "    </tr>\n",
       "    <tr>\n",
       "      <th>9</th>\n",
       "      <td>9.0</td>\n",
       "      <td>0.070760</td>\n",
       "      <td>0.075517</td>\n",
       "      <td>0.081687</td>\n",
       "      <td>0.100551</td>\n",
       "      <td>0.119762</td>\n",
       "    </tr>\n",
       "    <tr>\n",
       "      <th>10</th>\n",
       "      <td>10.0</td>\n",
       "      <td>0.071037</td>\n",
       "      <td>0.075960</td>\n",
       "      <td>0.082211</td>\n",
       "      <td>0.100808</td>\n",
       "      <td>0.120369</td>\n",
       "    </tr>\n",
       "  </tbody>\n",
       "</table>\n",
       "</div>"
      ],
      "text/plain": [
       "    Tenor(Year)       IGS       AAA        AA         A       BBB\n",
       "0           0.1  0.062647  0.065382  0.067510  0.074466  0.085495\n",
       "1           1.0  0.065302  0.068162  0.071400  0.086327  0.097969\n",
       "2           2.0  0.066136  0.069032  0.073235  0.090167  0.103644\n",
       "3           3.0  0.066757  0.069777  0.074628  0.092574  0.107331\n",
       "4           4.0  0.067532  0.070806  0.076081  0.094853  0.110564\n",
       "5           5.0  0.068380  0.071984  0.077548  0.096838  0.113415\n",
       "6           6.0  0.069175  0.073126  0.078901  0.098363  0.115758\n",
       "7           7.0  0.069846  0.074116  0.080053  0.099428  0.117554\n",
       "8           8.0  0.070371  0.074911  0.080978  0.100121  0.118858\n",
       "9           9.0  0.070760  0.075517  0.081687  0.100551  0.119762\n",
       "10         10.0  0.071037  0.075960  0.082211  0.100808  0.120369"
      ]
     },
     "execution_count": 19,
     "metadata": {},
     "output_type": "execute_result"
    }
   ],
   "source": [
    "corporate_bond = df_list[5].iloc[:,1:-1]\n",
    "corporate_bond.iloc[:,0] /= 10\n",
    "corporate_bond.iloc[:,1:] /= 1e6\n",
    "corporate_bond\n"
   ]
  },
  {
   "cell_type": "code",
   "execution_count": 20,
   "metadata": {},
   "outputs": [
    {
     "data": {
      "image/png": "[encoded data removed]",
      "text/plain": [
       "<Figure size 640x480 with 1 Axes>"
      ]
     },
     "metadata": {},
     "output_type": "display_data"
    }
   ],
   "source": [
    "plt.plot(corporate_bond.iloc[:,0], corporate_bond.iloc[:,1:], label = corporate_bond.columns[1:])\n",
    "plt.legend()\n",
    "plt.xlabel('Tenor Year')\n",
    "plt.ylabel('Rate')\n",
    "plt.title(f'Corporate Bond IDR {clean_date}')\n",
    "plt.grid()\n",
    "plt.savefig(f'{clean_date.split(\"-\")[2]}-{dict_month_number.get(clean_date.split(\"-\")[1])}-{clean_date.split(\"-\")[1]}/py-image/Corporate Bond IDR-{clean_date}.jpeg')\n",
    "plt.show()"
   ]
  },
  {
   "cell_type": "code",
   "execution_count": 21,
   "metadata": {},
   "outputs": [],
   "source": [
    "corporate_bond.to_excel(f'{clean_date.split(\"-\")[2]}-{dict_month_number.get(clean_date.split(\"-\")[1])}-{clean_date.split(\"-\")[1]}/Corporate-Bond-{clean_date}.xlsx', \n",
    "            sheet_name=clean_date)"
   ]
  }
 ],
 "metadata": {
  "kernelspec": {
   "display_name": "Python 3",
   "language": "python",
   "name": "python3"
  },
  "language_info": {
   "codemirror_mode": {
    "name": "ipython",
    "version": 3
   },
   "file_extension": ".py",
   "mimetype": "text/x-python",
   "name": "python",
   "nbconvert_exporter": "python",
   "pygments_lexer": "ipython3",
   "version": "3.12.1"
  }
 },
 "nbformat": 4,
 "nbformat_minor": 2
}
