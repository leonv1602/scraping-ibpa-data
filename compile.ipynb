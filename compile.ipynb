{
 "cells": [
  {
   "cell_type": "code",
   "execution_count": 1,
   "id": "6a67ef43",
   "metadata": {},
   "outputs": [],
   "source": [
    "import pandas as pd \n",
    "import numpy as np\n",
    "import os"
   ]
  },
  {
   "cell_type": "code",
   "execution_count": 2,
   "id": "f70a5ac8",
   "metadata": {},
   "outputs": [],
   "source": [
    "month_list = os.listdir('Scrape PHEI')\n",
    "month_list.sort()\n",
    "clean_month = month_list[:-2]"
   ]
  },
  {
   "cell_type": "code",
   "execution_count": 3,
   "id": "71fe9b0c",
   "metadata": {},
   "outputs": [],
   "source": [
    "file_names = []\n",
    "for m in clean_month:\n",
    "    filtered = [f for f in os.listdir(f'Scrape PHEI/{m}') if \"Yield-Curve\" in f]\n",
    "    filtered.sort()\n",
    "    if m == '2023-11-November':\n",
    "        file_names.append(filtered[-5])\n",
    "    elif m == '2023-12-Desember':\n",
    "        file_names.append(filtered[-2])\n",
    "    else:\n",
    "        file_names.append(filtered[-1])"
   ]
  },
  {
   "cell_type": "code",
   "execution_count": 4,
   "id": "4db135d0",
   "metadata": {},
   "outputs": [
    {
     "data": {
      "text/plain": [
       "['Yield-Curve-31-Oktober-2023.xlsx',\n",
       " 'Yield-Curve-30-November-2023.xlsx',\n",
       " 'Yield-Curve-29-Desember-2023.xlsx',\n",
       " 'Yield-Curve-31-Januari-2024.xlsx',\n",
       " 'Yield-Curve-29-Februari-2024.xlsx',\n",
       " 'Yield-Curve-28-Maret-2024.xlsx',\n",
       " 'Yield-Curve-30-April-2024.xlsx',\n",
       " 'Yield-Curve-31-Mei-2024.xlsx',\n",
       " 'Yield-Curve-28-Juni-2024.xlsx',\n",
       " 'Yield-Curve-31-Juli-2024.xlsx',\n",
       " 'Yield-Curve-30-Agustus-2024.xlsx',\n",
       " 'Yield-Curve-30-September-2024.xlsx',\n",
       " 'Yield-Curve-31-Oktober-2024.xlsx',\n",
       " 'Yield-Curve-29-November-2024.xlsx',\n",
       " 'Yield-Curve-30-Desember-2024.xlsx',\n",
       " 'Yield-Curve-31-Januari-2025.xlsx',\n",
       " 'Yield-Curve-28-Februari-2025.xlsx',\n",
       " 'Yield-Curve-27-Maret-2025.xlsx',\n",
       " 'Yield-Curve-30-April-2025.xlsx',\n",
       " 'Yield-Curve-28-Mei-2025.xlsx',\n",
       " 'Yield-Curve-30-Juni-2025.xlsx']"
      ]
     },
     "execution_count": 4,
     "metadata": {},
     "output_type": "execute_result"
    }
   ],
   "source": [
    "used_files = file_names[:-1]\n",
    "used_files"
   ]
  },
  {
   "cell_type": "code",
   "execution_count": 5,
   "id": "439eeabd",
   "metadata": {},
   "outputs": [],
   "source": [
    "df_spot = pd.DataFrame()\n",
    "for f, m in zip(used_files, clean_month[:-1]):\n",
    "    df = pd.read_excel(f'Scrape PHEI/{m}/{f}', index_col=0)[['Spot-Rate']]\n",
    "    df_spot = pd.concat([df_spot, df], axis=1)\n",
    "df_spot.columns = clean_month[:-1]"
   ]
  },
  {
   "cell_type": "code",
   "execution_count": 6,
   "id": "c135e5ad",
   "metadata": {},
   "outputs": [],
   "source": [
    "df_spot.to_excel('Spot-Rate_Compilation_EoM.xlsx', index=True)"
   ]
  }
 ],
 "metadata": {
  "kernelspec": {
   "display_name": "Python 3",
   "language": "python",
   "name": "python3"
  },
  "language_info": {
   "codemirror_mode": {
    "name": "ipython",
    "version": 3
   },
   "file_extension": ".py",
   "mimetype": "text/x-python",
   "name": "python",
   "nbconvert_exporter": "python",
   "pygments_lexer": "ipython3",
   "version": "3.12.1"
  }
 },
 "nbformat": 4,
 "nbformat_minor": 5
}
